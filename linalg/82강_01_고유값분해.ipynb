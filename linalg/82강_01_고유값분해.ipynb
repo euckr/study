{
 "cells": [
  {
   "cell_type": "code",
   "execution_count": 1,
   "metadata": {},
   "outputs": [],
   "source": [
    "import matplotlib.pylab as plt\n",
    "import numpy as np"
   ]
  },
  {
   "cell_type": "markdown",
   "metadata": {},
   "source": [
    "## 고유값 분해\n",
    "1. 고유값을 n개를 찾는다.\n",
    "1. 고유값별로 고유벡터를 찾는다.\n",
    "1. 고유벡터들을 정규화한다.\n",
    "1. 대칭행렬 A는 $PDP^{-1}$로 표현되는데, 풀이를 해보면 다음과 같이 된다.\n",
    "$$\n",
    "\\begin{align}\n",
    "A = PDP^{-1} = \\sum_{i=1}^{N} {\\lambda_i} v_i v_i^T  \n",
    "\\end{align}\n",
    "$$\n",
    "1. 결국 A는 고유값 $\\lambda_i v_i v_i^T$들의 합으로 재구성할 수 있다.\n",
    "1. $v_i v_i^T$는 정규벡터라서 길이가 1이다($ norm(v_i) = 1 $)\n",
    "1. 그래서 $v_i v_i^T$는 별로 큰 값이 아니다.\n",
    "1. 작은 $\\lambda_i$들을 작은 $v_i v_i^T$들과 곱해봐야 값이 별로 크지 않다. 즉 미세한 값이다.\n",
    "1. A를 정확하게 재구성하기 위해서는 모든 $\\lambda_i v_i v_i^T$들을 더해야 하는데\n",
    "1. 큰 $\\lambda_i$들로만 재구성해도 A와 많이 차이나지 않는다. \n",
    "1. 즉 A의 근사치를 계산할 수 있다."
   ]
  }
 ],
 "metadata": {
  "kernelspec": {
   "display_name": "Python 3",
   "language": "python",
   "name": "python3"
  },
  "language_info": {
   "codemirror_mode": {
    "name": "ipython",
    "version": 3
   },
   "file_extension": ".py",
   "mimetype": "text/x-python",
   "name": "python",
   "nbconvert_exporter": "python",
   "pygments_lexer": "ipython3",
   "version": "3.8.5"
  }
 },
 "nbformat": 4,
 "nbformat_minor": 4
}
