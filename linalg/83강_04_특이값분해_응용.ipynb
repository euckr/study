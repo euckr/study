{
 "cells": [
  {
   "cell_type": "markdown",
   "metadata": {},
   "source": [
    "# 83강 특이값 분해 응용\n",
    "\n",
    "- 이 문서는 미완성이다.\n",
    "- 참고 사이트: [frankcleary.com주피터](https://www.frankcleary.com/svd/)의 글을 읽으면서 정리한다.\n",
    "- 읽으면서 내가 이해한 바를 정리했는데 오류가 많을 것 같다.\n",
    "- 이 포스트의 핵심 주제는 \n",
    "    - 특이값 분해결과인 V의 앞부분 행과 U의 앞부분 열이 A행렬에 기여를 많이 한다.\n",
    "    - 이런 내용을 다룬 문서가 없어서 부족하나마 일단 정리해둔다.   "
   ]
  },
  {
   "cell_type": "markdown",
   "metadata": {},
   "source": [
    "## TOC\n",
    "- 개요\n",
    "\n",
    "### TODO\n",
    "- 테스트용 데이터가 없어서 프로그램을 실행해보지 못했다. \n",
    "- 나중에 유사한 데이터를 만들어서 테스트해봐야 겠다.\n",
    "- 그래서 미완성이다."
   ]
  },
  {
   "cell_type": "markdown",
   "metadata": {},
   "source": [
    "## 해석\n",
    "- 특이값 분해가 선형대수의 관점에서 흥미롭지만, 여기서는 응용에 초점을 맞추고, 기하학적 해석이나 유도는 생략한다.\n",
    "\n",
    "- A는 $m \\times n$행렬이고 $A=[a_1, a_2, \\cdots a_n]$이다. $a_i$는 열벡터\n",
    "\n",
    "- A의 특이값 분해 결과인 U는 $m \\times m$, Σ는 $m \\times n$, V는 $n \\times n$이다.\n",
    "\n",
    "- Σ가 대각행렬이므로 $a_i = u_1\\,\\sigma_1\\,V_{1,i} + u_2\\,\\sigma_2\\,V_{2,i} + \\cdots = U \\, \\Sigma \\, v_i $\n",
    "\n",
    "- Σ행렬의 특이값은 큰 순서로 정렬되어 있다. $\\sigma_1 \\gt \\sigma_2 \\gt \\sigma_3 \\gt \\cdots $\n",
    "\n",
    "- 눈으로 쉽게 확인하기 위해 행렬을 복잡하게 풀어서 썼다.\n",
    "\n",
    "$$\n",
    "\\begin{bmatrix}\n",
    "    u_{11} & u_{12} & u_{13} \\\\\n",
    "    u_{21} & u_{22} & u_{23} \\\\\n",
    "    u_{31} & u_{32} & u_{33} \\\\\n",
    "\\end{bmatrix}\n",
    "\\begin{bmatrix}\n",
    "    \\sigma_1 & 0        \\\\\n",
    "    0        & \\sigma_2 \\\\\n",
    "    0        & 0        \\\\\n",
    "\\end{bmatrix}\n",
    "\\begin{bmatrix}\n",
    "    v_{11} & v_{12}  \\\\\n",
    "    v_{21} & v_{22}  \\\\\n",
    "\\end{bmatrix}\n",
    "=\n",
    "\\begin{bmatrix}\n",
    "    u_{11} \\sigma_1 v_{11} + u_{12} \\sigma_2 v_{21} &  u_{11} \\sigma_1 v_{12} + u_{12} \\sigma_2 v_{22}  \\\\\n",
    "    u_{21} \\sigma_1 v_{11} + u_{22} \\sigma_2 v_{21} &  u_{21} \\sigma_1 v_{12} + u_{22} \\sigma_2 v_{22}  \\\\\n",
    "    u_{31} \\sigma_1 v_{11} + u_{32} \\sigma_2 v_{21} &  u_{31} \\sigma_1 v_{12} + u_{32} \\sigma_2 v_{22}  \\\\\n",
    "\\end{bmatrix} \n",
    "=\n",
    "\\begin{bmatrix}\n",
    "    a_{11} & a_{12}  \\\\\n",
    "    a_{21} & a_{22}  \\\\\n",
    "    a_{31} & a_{32}  \\\\\n",
    "\\end{bmatrix}\n",
    "$$\n",
    "\n",
    "#### 기여를 누가 많이 하는가?\n",
    "- $\\sigma_1$이 A행렬의 각 요소에 골고루 곱해져 있음을 볼 수 있다.\n",
    "- 여기서 $\\sigma_1$과 곱해지는 것은 V의 1행들과 U의 1열들뿐임을 알 수 있다.\n",
    "- **이것은 V의 1행과 U의 1열이 A의 최종값에 많이 기여함을 의미한다.**\n",
    "\n",
    "#### V의 열은 A의 열을 정의한다.\n",
    "- 또 V의 1열은 A의 1열에만 더해지지, A의 다른 열에는 기여하지 않는다.\n",
    "- V의 2열은 A의 2열에만 더해진다.\n",
    "- 따라서 V의 열은 A의 열을 정의한다.\n",
    "\n",
    "#### U의 행은 A의 행을 정의한다.\n",
    "- 또 U의 1행은 A의 1행에만 더해지지, A의 다른 행에는 기여하지 않는다.\n",
    "- U의 2행은 A의 2행에만 더해진다.\n",
    "- 따라서 U의 행은 A의 행을 정의한다.\n"
   ]
  },
  {
   "cell_type": "markdown",
   "metadata": {},
   "source": [
    "## Brief discussion of dimensionality\n",
    "- 만약 A가 $m \\times n$이면, U는 $m \\times n$, Σ는 $m \\times n$, V는 $n \\times n$이다.\n",
    "- Σ에는 0이 아닌 값이 r=rank(A)개 만큼 있다. \n",
    "- 그러므로 U의 열벡터중 r번째 이후의 열벡터는 A에 기여하지 못한다.\n",
    "- 마찬가지로 V의 행벡터중 r번째 이후의 행벡터는 A에 기여하지 못한다.\n",
    "- 그러므로 U는 $m \\times r$, Σ는 $r \\times r$, V는 $r \\times n$ 부분만 남기고 나머지는 모두 생략한다."
   ]
  },
  {
   "cell_type": "markdown",
   "metadata": {},
   "source": [
    "## Example with data\n",
    "- 특이값 분해는 유사한 객체들을 분류하는 용도로 사용할 있다.\n",
    "- 예를 들어보자.\n",
    "\n",
    ">4개의 블로그 포스트가 있는데, 두개는 스키에 대한 내용이고, 두개는 하키에 대한 내용을 담고 있다. \n",
    "\n",
    "\n",
    "- 다섯 단어에 대해, 각 포스트들이 언급한 횟수에 대한 데이터를 만들었다."
   ]
  },
  {
   "cell_type": "code",
   "execution_count": 1,
   "metadata": {},
   "outputs": [
    {
     "data": {
      "text/html": [
       "<div>\n",
       "<style scoped>\n",
       "    .dataframe tbody tr th:only-of-type {\n",
       "        vertical-align: middle;\n",
       "    }\n",
       "\n",
       "    .dataframe tbody tr th {\n",
       "        vertical-align: top;\n",
       "    }\n",
       "\n",
       "    .dataframe thead th {\n",
       "        text-align: right;\n",
       "    }\n",
       "</style>\n",
       "<table border=\"1\" class=\"dataframe\">\n",
       "  <thead>\n",
       "    <tr style=\"text-align: right;\">\n",
       "      <th></th>\n",
       "      <th>post1</th>\n",
       "      <th>post2</th>\n",
       "      <th>post3</th>\n",
       "      <th>post4</th>\n",
       "    </tr>\n",
       "    <tr>\n",
       "      <th>word:</th>\n",
       "      <th></th>\n",
       "      <th></th>\n",
       "      <th></th>\n",
       "      <th></th>\n",
       "    </tr>\n",
       "  </thead>\n",
       "  <tbody>\n",
       "    <tr>\n",
       "      <th>ice</th>\n",
       "      <td>4</td>\n",
       "      <td>4</td>\n",
       "      <td>6</td>\n",
       "      <td>2</td>\n",
       "    </tr>\n",
       "    <tr>\n",
       "      <th>snow</th>\n",
       "      <td>6</td>\n",
       "      <td>1</td>\n",
       "      <td>0</td>\n",
       "      <td>5</td>\n",
       "    </tr>\n",
       "    <tr>\n",
       "      <th>tahoe</th>\n",
       "      <td>3</td>\n",
       "      <td>0</td>\n",
       "      <td>0</td>\n",
       "      <td>5</td>\n",
       "    </tr>\n",
       "    <tr>\n",
       "      <th>goal</th>\n",
       "      <td>0</td>\n",
       "      <td>6</td>\n",
       "      <td>5</td>\n",
       "      <td>1</td>\n",
       "    </tr>\n",
       "    <tr>\n",
       "      <th>puck</th>\n",
       "      <td>0</td>\n",
       "      <td>4</td>\n",
       "      <td>5</td>\n",
       "      <td>0</td>\n",
       "    </tr>\n",
       "  </tbody>\n",
       "</table>\n",
       "</div>"
      ],
      "text/plain": [
       "       post1  post2  post3  post4\n",
       "word:                            \n",
       "ice        4      4      6      2\n",
       "snow       6      1      0      5\n",
       "tahoe      3      0      0      5\n",
       "goal       0      6      5      1\n",
       "puck       0      4      5      0"
      ]
     },
     "execution_count": 1,
     "metadata": {},
     "output_type": "execute_result"
    }
   ],
   "source": [
    "import pandas as pd\n",
    "\n",
    "c_names = ['post1', 'post2', 'post3', 'post4']\n",
    "words = ['ice', 'snow', 'tahoe', 'goal', 'puck']\n",
    "post_words = pd.DataFrame([[4, 4, 6, 2],\n",
    "                           [6, 1, 0, 5],\n",
    "                           [3, 0, 0, 5],\n",
    "                           [0, 6, 5, 1],\n",
    "                           [0, 4, 5, 0]],\n",
    "                          index = words,\n",
    "                          columns = c_names)\n",
    "post_words.index.names = ['word:']\n",
    "post_words"
   ]
  },
  {
   "cell_type": "markdown",
   "metadata": {},
   "source": [
    "- 1,4번 포스트는 스키, 2,3번 포스트는 하키에 대한 내용인 것 같다.\n",
    "- 위의 DataFrame을 행렬 A로 두고, 행렬 요소의 값은 포스트에서 언급한 횟수를 의미한다.\n",
    "- 넘파이를 사용해 A행렬에 대해 특이값분해를 해보자."
   ]
  },
  {
   "cell_type": "code",
   "execution_count": 4,
   "metadata": {},
   "outputs": [
    {
     "name": "stdout",
     "output_type": "stream",
     "text": [
      "V = \n",
      " [[-0.4  -0.57 -0.63 -0.35]\n",
      " [-0.6   0.33  0.41 -0.6 ]\n",
      " [ 0.6  -0.41  0.32 -0.61]\n",
      " [-0.34 -0.63  0.58  0.39]]\n"
     ]
    }
   ],
   "source": [
    "import numpy as np\n",
    "U, sigma, V = np.linalg.svd(post_words)\n",
    "print('V = \\n', np.round(V, decimals=2))"
   ]
  },
  {
   "cell_type": "markdown",
   "metadata": {},
   "source": [
    "V의 결과가 4행 4열로 나오는데,\n",
    "V의 4열은 최종 행렬 A의 4열을 정의하므로\n",
    "V의 4열은 A의 4열과 같은 종류이다."
   ]
  },
  {
   "cell_type": "code",
   "execution_count": 5,
   "metadata": {},
   "outputs": [
    {
     "data": {
      "text/html": [
       "<div>\n",
       "<style scoped>\n",
       "    .dataframe tbody tr th:only-of-type {\n",
       "        vertical-align: middle;\n",
       "    }\n",
       "\n",
       "    .dataframe tbody tr th {\n",
       "        vertical-align: top;\n",
       "    }\n",
       "\n",
       "    .dataframe thead th {\n",
       "        text-align: right;\n",
       "    }\n",
       "</style>\n",
       "<table border=\"1\" class=\"dataframe\">\n",
       "  <thead>\n",
       "    <tr style=\"text-align: right;\">\n",
       "      <th></th>\n",
       "      <th>post1</th>\n",
       "      <th>post2</th>\n",
       "      <th>post3</th>\n",
       "      <th>post4</th>\n",
       "    </tr>\n",
       "  </thead>\n",
       "  <tbody>\n",
       "    <tr>\n",
       "      <th>0</th>\n",
       "      <td>-0.395634</td>\n",
       "      <td>-0.570869</td>\n",
       "      <td>-0.630100</td>\n",
       "      <td>-0.347212</td>\n",
       "    </tr>\n",
       "    <tr>\n",
       "      <th>1</th>\n",
       "      <td>-0.599836</td>\n",
       "      <td>0.331743</td>\n",
       "      <td>0.408279</td>\n",
       "      <td>-0.602870</td>\n",
       "    </tr>\n",
       "    <tr>\n",
       "      <th>2</th>\n",
       "      <td>0.604001</td>\n",
       "      <td>-0.405353</td>\n",
       "      <td>0.321932</td>\n",
       "      <td>-0.605996</td>\n",
       "    </tr>\n",
       "    <tr>\n",
       "      <th>3</th>\n",
       "      <td>-0.344752</td>\n",
       "      <td>-0.632253</td>\n",
       "      <td>0.576751</td>\n",
       "      <td>0.385695</td>\n",
       "    </tr>\n",
       "  </tbody>\n",
       "</table>\n",
       "</div>"
      ],
      "text/plain": [
       "      post1     post2     post3     post4\n",
       "0 -0.395634 -0.570869 -0.630100 -0.347212\n",
       "1 -0.599836  0.331743  0.408279 -0.602870\n",
       "2  0.604001 -0.405353  0.321932 -0.605996\n",
       "3 -0.344752 -0.632253  0.576751  0.385695"
      ]
     },
     "execution_count": 5,
     "metadata": {},
     "output_type": "execute_result"
    }
   ],
   "source": [
    "V_df = pd.DataFrame(V, columns=c_names)\n",
    "V_df"
   ]
  },
  {
   "cell_type": "markdown",
   "metadata": {},
   "source": [
    "- V의 처음 2행에서 포스트 1과 4는\n",
    "    - 값이 큰 차이가 없음을 볼 수 있다.\n",
    "    - 이것은 포스트 1과 4에 유사한 단어가 포함되어 있음을 나타낸다.\n",
    "    - 여기서는 스키 관련 단어이겠다.\n",
    "- V의 처음 2행에서 포스트 2과 3는\n",
    "    - 값이 큰 차이가 없음을 볼 수 있다.\n",
    "    - 이것은 포스트 2와 3에 유사한 단어가 포함되어 있음을 나타낸다.\n",
    "    \n",
    "- 그러나 마지막 두 행은 덜 일치한다. \n",
    "- 왜냐하면 마지막 두 행의 가중치인 $\\sigma_3, \\sigma_4$는 $\\sigma_1, \\sigma_2$에 비해 작기 때문이다.\n",
    "\n",
    "- $\\sigma$의 값을 확인해보자.\n"
   ]
  },
  {
   "cell_type": "code",
   "execution_count": 7,
   "metadata": {},
   "outputs": [
    {
     "data": {
      "text/plain": [
       "array([13.3221948 ,  9.2609512 ,  2.41918664,  1.37892883])"
      ]
     },
     "execution_count": 7,
     "metadata": {},
     "output_type": "execute_result"
    }
   ],
   "source": [
    "sigma"
   ]
  },
  {
   "cell_type": "markdown",
   "metadata": {},
   "source": [
    "- $\\sigma$의 크기는 $\\sigma_1 \\ge \\sigma_2 \\ge \\sigma_3 \\ge \\sigma_4$ 순이고,\n",
    "- V의 처음 두 행의 값이 마지막 두 행의 값보다 훨씬 더 중요하다는 것을 나타낸다.\n",
    "- 사실 V의 처음 두행과 U의 처음 두열만으로도 A를 정의할 수 있다. A는 최대 1단어 오류를 갖는다."
   ]
  },
  {
   "cell_type": "code",
   "execution_count": 13,
   "metadata": {},
   "outputs": [
    {
     "name": "stdout",
     "output_type": "stream",
     "text": [
      "처음 2행만 사용하여 재구성한 행렬\n",
      "[[ 3.19708412  4.81855605  5.32573599  2.79267497]\n",
      " [ 5.61979298  0.58820097  0.38467542  5.41220366]\n",
      " [ 4.04394318  0.07166455 -0.12363886  3.91701473]\n",
      " [ 0.68211703  5.08962774  5.76212157  0.33649133]\n",
      " [ 0.12939801  4.21952303  4.79918534 -0.14394602]]\n",
      "\n",
      "실제 값과의 차이(에러)\n",
      "          post1     post2     post3     post4\n",
      "word:                                        \n",
      "ice    0.802916 -0.818556  0.674264 -0.792675\n",
      "snow   0.380207  0.411799 -0.384675 -0.412204\n",
      "tahoe -1.043943 -0.071665  0.123639  1.082985\n",
      "goal  -0.682117  0.910372 -0.762122  0.663509\n",
      "puck  -0.129398 -0.219523  0.200815  0.143946\n"
     ]
    }
   ],
   "source": [
    "A_approx = np.matrix(U[:, :2]) * np.diag(sigma[:2]) * np.matrix(V[:2, :])\n",
    "print('처음 2행만 사용하여 재구성한 행렬')\n",
    "print(A_approx)\n",
    "print('\\n실제 값과의 차이(에러)')\n",
    "print(post_words - A_approx)"
   ]
  },
  {
   "cell_type": "markdown",
   "metadata": {},
   "source": [
    "- 포스트간의 유사성을 시각화하기 위해 V를 이미지로써 표시해보자.\n",
    "- 처음 두 줄에서 유사한 포스트들은 유사한 컬러를 갖는지 확인해 보라."
   ]
  },
  {
   "cell_type": "code",
   "execution_count": 16,
   "metadata": {},
   "outputs": [
    {
     "data": {
      "image/png": "[encoded data removed]",
      "text/plain": [
       "<Figure size 432x288 with 2 Axes>"
      ]
     },
     "metadata": {
      "needs_background": "light"
     },
     "output_type": "display_data"
    }
   ],
   "source": [
    "plt.imshow(V, interpolation='none')\n",
    "plt.xticks(range(len(c_names)))\n",
    "plt.yticks(range(len(words)))\n",
    "plt.ylim([len(words) - 1.5, -.5])\n",
    "ax = plt.gca()\n",
    "ax.set_xticklabels(c_names)\n",
    "ax.set_yticklabels(range(1, len(words) + 1))\n",
    "plt.title(\"$V$\")\n",
    "plt.colorbar();"
   ]
  },
  {
   "cell_type": "markdown",
   "metadata": {},
   "source": [
    "- SVD가 알려주는 또 다른 것은, 포스트의 카테고리이다.\n",
    "- V의 두번째 행에서 스키 포스트들은 하키 포스트들과 매우 다른 것을 볼 수 있다.\n",
    "- V의 두번째 행은, U의 두번째 열이 최종 값에 얼마나 영향을 주느냐에 따라 달라진다.\n",
    "    - V의 두번째 행과 곱해지는 것은 U의 두번째 열이다.\n",
    "\n",
    "- 아래는 U의 두 번째 열이다."
   ]
  },
  {
   "cell_type": "code",
   "execution_count": 17,
   "metadata": {},
   "outputs": [
    {
     "data": {
      "text/html": [
       "<div>\n",
       "<style scoped>\n",
       "    .dataframe tbody tr th:only-of-type {\n",
       "        vertical-align: middle;\n",
       "    }\n",
       "\n",
       "    .dataframe tbody tr th {\n",
       "        vertical-align: top;\n",
       "    }\n",
       "\n",
       "    .dataframe thead th {\n",
       "        text-align: right;\n",
       "    }\n",
       "</style>\n",
       "<table border=\"1\" class=\"dataframe\">\n",
       "  <thead>\n",
       "    <tr style=\"text-align: right;\">\n",
       "      <th></th>\n",
       "      <th>0</th>\n",
       "    </tr>\n",
       "  </thead>\n",
       "  <tbody>\n",
       "    <tr>\n",
       "      <th>ice</th>\n",
       "      <td>0.018526</td>\n",
       "    </tr>\n",
       "    <tr>\n",
       "      <th>snow</th>\n",
       "      <td>-0.678291</td>\n",
       "    </tr>\n",
       "    <tr>\n",
       "      <th>tahoe</th>\n",
       "      <td>-0.519801</td>\n",
       "    </tr>\n",
       "    <tr>\n",
       "      <th>goal</th>\n",
       "      <td>0.370263</td>\n",
       "    </tr>\n",
       "    <tr>\n",
       "      <th>puck</th>\n",
       "      <td>0.363717</td>\n",
       "    </tr>\n",
       "  </tbody>\n",
       "</table>\n",
       "</div>"
      ],
      "text/plain": [
       "              0\n",
       "ice    0.018526\n",
       "snow  -0.678291\n",
       "tahoe -0.519801\n",
       "goal   0.370263\n",
       "puck   0.363717"
      ]
     },
     "execution_count": 17,
     "metadata": {},
     "output_type": "execute_result"
    }
   ],
   "source": [
    "pd.DataFrame(U[:,1], index=words)\n"
   ]
  },
  {
   "cell_type": "markdown",
   "metadata": {},
   "source": [
    "- 위 데이터는 (snow, tahoe)과 (goal,puck)과 매우 차이가 나는 것을 볼 수 있다.\n",
    "- 이 작은 데이터에서 우리는 적어도 이런 결론을 내릴 수 있다.\n",
    "- snow,tahoe 단어가 goal,puck 단어로부터 다른 분류를 한다."
   ]
  },
  {
   "cell_type": "code",
   "execution_count": null,
   "metadata": {},
   "outputs": [],
   "source": []
  }
 ],
 "metadata": {
  "kernelspec": {
   "display_name": "Python 3",
   "language": "python",
   "name": "python3"
  },
  "language_info": {
   "codemirror_mode": {
    "name": "ipython",
    "version": 3
   },
   "file_extension": ".py",
   "mimetype": "text/x-python",
   "name": "python",
   "nbconvert_exporter": "python",
   "pygments_lexer": "ipython3",
   "version": "3.8.5"
  }
 },
 "nbformat": 4,
 "nbformat_minor": 4
}
