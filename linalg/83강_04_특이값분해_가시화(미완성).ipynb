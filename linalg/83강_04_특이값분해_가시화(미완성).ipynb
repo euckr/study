{
 "cells": [
  {
   "cell_type": "markdown",
   "metadata": {},
   "source": [
    "# 83강 특이값 분해 - 가시화\n",
    "\n",
    "- 공부할 예정\n",
    "- 참고 사이트\n",
    "    - [SVD Visualization Tool for 2-by-2 Matrices](https://lambein.xyz/blog/2018/12/20/svd-visualization.html)\n",
    "    - [alyssaq.github.io](https://alyssaq.github.io/2015/singular-value-decomposition-visualisation/)\n",
    "    "
   ]
  }
 ],
 "metadata": {
  "kernelspec": {
   "display_name": "Python 3",
   "language": "python",
   "name": "python3"
  },
  "language_info": {
   "codemirror_mode": {
    "name": "ipython",
    "version": 3
   },
   "file_extension": ".py",
   "mimetype": "text/x-python",
   "name": "python",
   "nbconvert_exporter": "python",
   "pygments_lexer": "ipython3",
   "version": "3.8.5"
  }
 },
 "nbformat": 4,
 "nbformat_minor": 4
}
